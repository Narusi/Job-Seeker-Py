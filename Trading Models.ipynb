{
 "cells": [
  {
   "cell_type": "code",
   "execution_count": 1,
   "metadata": {
    "collapsed": true
   },
   "outputs": [],
   "source": [
    "import pandas as pd\n",
    "import numpy as np\n",
    "from sklearn.preprocessing import StandardScaler\n",
    "from sklearn.model_selection import train_test_split\n",
    "\n",
    "import matplotlib.pyplot as plt\n",
    "%matplotlib inline\n",
    "import seaborn as sns\n",
    "sns.set(style='darkgrid', context='talk', palette='Dark2')"
   ]
  },
  {
   "cell_type": "code",
   "execution_count": 75,
   "metadata": {},
   "outputs": [
    {
     "name": "stdout",
     "output_type": "stream",
     "text": [
      "              Open        Close\n",
      "count  4752.000000  4752.000000\n",
      "mean    137.420371   137.405966\n",
      "std      50.030071    50.024129\n",
      "min      16.460501    15.219800\n",
      "25%      98.432098    98.432098\n",
      "50%     128.623001   128.623001\n",
      "75%     181.112003   181.000000\n",
      "max     248.500000   248.500000\n"
     ]
    }
   ],
   "source": [
    "data = pd.read_csv('C:\\\\Users\\\\p998nkf\\\\Downloads\\\\SWED-A.ST.csv', index_col = 'Date')\n",
    "\n",
    "data = data.where(data['Close'] != 'null')\n",
    "data = data.astype('float64')\n",
    "data.index = pd.to_datetime(data.index)\n",
    "\n",
    "print(data[['Open', 'Close']].describe())\n",
    "\n",
    "data['50D SMA'] = data['Close'].rolling(50).mean()\n",
    "data['200D SMA'] = data['Close'].rolling(200).mean()\n",
    "data['50D STD'] = data['Close'].rolling(50).std()\n",
    "data['200D STD'] = data['Close'].rolling(200).std()\n",
    "data['200D VOL'] = data['Volume'].rolling(200).mean()\n",
    "data = data.dropna()\n",
    "\n",
    "vol = data['Volume']\n",
    "data = data.drop('Volume', axis=1)\n",
    "\n",
    "data = data.pct_change().dropna()\n",
    "data['Volume'] = vol[-len(data.index):]"
   ]
  },
  {
   "cell_type": "code",
   "execution_count": 76,
   "metadata": {},
   "outputs": [
    {
     "name": "stdout",
     "output_type": "stream",
     "text": [
      "<class 'pandas.core.frame.DataFrame'>\n",
      "DatetimeIndex: 3291 entries, 2000-10-09 to 2018-11-02\n",
      "Data columns (total 11 columns):\n",
      "Open         3291 non-null float64\n",
      "High         3291 non-null float64\n",
      "Low          3291 non-null float64\n",
      "Close        3291 non-null float64\n",
      "Adj Close    3291 non-null float64\n",
      "50D SMA      3291 non-null float64\n",
      "200D SMA     3291 non-null float64\n",
      "50D STD      3291 non-null float64\n",
      "200D STD     3291 non-null float64\n",
      "200D VOL     3291 non-null float64\n",
      "Volume       3291 non-null float64\n",
      "dtypes: float64(11)\n",
      "memory usage: 308.5 KB\n"
     ]
    }
   ],
   "source": [
    "data.info()"
   ]
  },
  {
   "cell_type": "code",
   "execution_count": 77,
   "metadata": {},
   "outputs": [
    {
     "name": "stdout",
     "output_type": "stream",
     "text": [
      "                Open      High       Low  Adj Close   50D SMA  200D SMA  \\\n",
      "Date                                                                      \n",
      "2018-10-31  0.008321  0.009732  0.014321   0.002920 -0.000289  0.000143   \n",
      "2018-11-01  0.000485 -0.003373 -0.008277  -0.005822 -0.000299  0.000113   \n",
      "\n",
      "             50D STD  200D STD  200D VOL     Volume  \n",
      "Date                                                 \n",
      "2018-10-31  0.000060  0.001189 -0.001503  2889150.0  \n",
      "2018-11-01  0.001067  0.000799 -0.000903  2600307.0  \n",
      "Date\n",
      "2018-11-01   -0.005822\n",
      "2018-11-02    0.000000\n",
      "Name: Close, dtype: float64\n",
      "\n",
      "Train samples: 2862\n",
      "Test samples: 428\n"
     ]
    }
   ],
   "source": [
    "y = data['Close'][1:]\n",
    "x = data.drop('Close', axis=1)[:-1]\n",
    "\n",
    "X_train, X_test, y_train, y_test = train_test_split(x, y, test_size=0.13, random_state=42, shuffle = False)\n",
    "i = data.index[-1]\n",
    "\n",
    "print(x.tail(2))\n",
    "print(y.tail(2))\n",
    "\n",
    "print('\\nTrain samples: {}\\nTest samples: {}'.format(len(y_train), len(y_test)))"
   ]
  },
  {
   "cell_type": "markdown",
   "metadata": {},
   "source": [
    "**Random Forest Regression**"
   ]
  },
  {
   "cell_type": "code",
   "execution_count": 78,
   "metadata": {},
   "outputs": [
    {
     "name": "stdout",
     "output_type": "stream",
     "text": [
      "Test score: -0.376353\n"
     ]
    }
   ],
   "source": [
    "from sklearn.ensemble import RandomForestRegressor\n",
    "from sklearn.datasets import make_regression\n",
    "\n",
    "#-1 for n_jobs means using all processors for the fit/predict\n",
    "modRF = RandomForestRegressor(n_estimators = 200, n_jobs = -1)\n",
    "randomF = modRF.fit(X_train, y_train)\n",
    "\n",
    "print('Test score: {}'.format(round(randomF.score(X_test, y_test),6)))"
   ]
  },
  {
   "cell_type": "code",
   "execution_count": 79,
   "metadata": {},
   "outputs": [
    {
     "ename": "KeyboardInterrupt",
     "evalue": "",
     "output_type": "error",
     "traceback": [
      "\u001b[1;31m---------------------------------------------------------------------------\u001b[0m",
      "\u001b[1;31mKeyboardInterrupt\u001b[0m                         Traceback (most recent call last)",
      "\u001b[1;32m<ipython-input-79-2e9d87603227>\u001b[0m in \u001b[0;36m<module>\u001b[1;34m()\u001b[0m\n\u001b[0;32m     13\u001b[0m     \u001b[1;31m#.reshape(1, -1)\u001b[0m\u001b[1;33m\u001b[0m\u001b[1;33m\u001b[0m\u001b[0m\n\u001b[0;32m     14\u001b[0m     \u001b[0mactual\u001b[0m\u001b[1;33m.\u001b[0m\u001b[0mappend\u001b[0m\u001b[1;33m(\u001b[0m\u001b[0my\u001b[0m\u001b[1;33m.\u001b[0m\u001b[0miloc\u001b[0m\u001b[1;33m[\u001b[0m\u001b[1;33m-\u001b[0m\u001b[0mn\u001b[0m \u001b[1;33m+\u001b[0m \u001b[0mi\u001b[0m\u001b[1;33m]\u001b[0m\u001b[1;33m)\u001b[0m\u001b[1;33m\u001b[0m\u001b[0m\n\u001b[1;32m---> 15\u001b[1;33m     \u001b[0mrandomF\u001b[0m \u001b[1;33m=\u001b[0m \u001b[0mmodRF\u001b[0m\u001b[1;33m.\u001b[0m\u001b[0mfit\u001b[0m\u001b[1;33m(\u001b[0m\u001b[0mx\u001b[0m\u001b[1;33m[\u001b[0m\u001b[1;33m:\u001b[0m\u001b[1;33m-\u001b[0m\u001b[0mn\u001b[0m \u001b[1;33m+\u001b[0m \u001b[0mi\u001b[0m\u001b[1;33m]\u001b[0m\u001b[1;33m,\u001b[0m \u001b[0my\u001b[0m\u001b[1;33m[\u001b[0m\u001b[1;33m:\u001b[0m\u001b[1;33m-\u001b[0m\u001b[0mn\u001b[0m \u001b[1;33m+\u001b[0m \u001b[0mi\u001b[0m\u001b[1;33m]\u001b[0m\u001b[1;33m)\u001b[0m\u001b[1;33m\u001b[0m\u001b[0m\n\u001b[0m\u001b[0;32m     16\u001b[0m     \u001b[0mtest\u001b[0m\u001b[1;33m.\u001b[0m\u001b[0mappend\u001b[0m\u001b[1;33m(\u001b[0m\u001b[0mrandomF\u001b[0m\u001b[1;33m.\u001b[0m\u001b[0mpredict\u001b[0m\u001b[1;33m(\u001b[0m\u001b[0mt\u001b[0m\u001b[1;33m)\u001b[0m\u001b[1;33m[\u001b[0m\u001b[1;36m0\u001b[0m\u001b[1;33m]\u001b[0m\u001b[1;33m)\u001b[0m\u001b[1;33m\u001b[0m\u001b[0m\n\u001b[0;32m     17\u001b[0m \u001b[1;33m\u001b[0m\u001b[0m\n",
      "\u001b[1;32m~\\AppData\\Local\\conda\\conda\\envs\\another_root\\lib\\site-packages\\sklearn\\ensemble\\forest.py\u001b[0m in \u001b[0;36mfit\u001b[1;34m(self, X, y, sample_weight)\u001b[0m\n\u001b[0;32m    325\u001b[0m                     \u001b[0mt\u001b[0m\u001b[1;33m,\u001b[0m \u001b[0mself\u001b[0m\u001b[1;33m,\u001b[0m \u001b[0mX\u001b[0m\u001b[1;33m,\u001b[0m \u001b[0my\u001b[0m\u001b[1;33m,\u001b[0m \u001b[0msample_weight\u001b[0m\u001b[1;33m,\u001b[0m \u001b[0mi\u001b[0m\u001b[1;33m,\u001b[0m \u001b[0mlen\u001b[0m\u001b[1;33m(\u001b[0m\u001b[0mtrees\u001b[0m\u001b[1;33m)\u001b[0m\u001b[1;33m,\u001b[0m\u001b[1;33m\u001b[0m\u001b[0m\n\u001b[0;32m    326\u001b[0m                     verbose=self.verbose, class_weight=self.class_weight)\n\u001b[1;32m--> 327\u001b[1;33m                 for i, t in enumerate(trees))\n\u001b[0m\u001b[0;32m    328\u001b[0m \u001b[1;33m\u001b[0m\u001b[0m\n\u001b[0;32m    329\u001b[0m             \u001b[1;31m# Collect newly grown trees\u001b[0m\u001b[1;33m\u001b[0m\u001b[1;33m\u001b[0m\u001b[0m\n",
      "\u001b[1;32m~\\AppData\\Local\\conda\\conda\\envs\\another_root\\lib\\site-packages\\sklearn\\externals\\joblib\\parallel.py\u001b[0m in \u001b[0;36m__call__\u001b[1;34m(self, iterable)\u001b[0m\n\u001b[0;32m    787\u001b[0m                 \u001b[1;31m# consumption.\u001b[0m\u001b[1;33m\u001b[0m\u001b[1;33m\u001b[0m\u001b[0m\n\u001b[0;32m    788\u001b[0m                 \u001b[0mself\u001b[0m\u001b[1;33m.\u001b[0m\u001b[0m_iterating\u001b[0m \u001b[1;33m=\u001b[0m \u001b[1;32mFalse\u001b[0m\u001b[1;33m\u001b[0m\u001b[0m\n\u001b[1;32m--> 789\u001b[1;33m             \u001b[0mself\u001b[0m\u001b[1;33m.\u001b[0m\u001b[0mretrieve\u001b[0m\u001b[1;33m(\u001b[0m\u001b[1;33m)\u001b[0m\u001b[1;33m\u001b[0m\u001b[0m\n\u001b[0m\u001b[0;32m    790\u001b[0m             \u001b[1;31m# Make sure that we get a last message telling us we are done\u001b[0m\u001b[1;33m\u001b[0m\u001b[1;33m\u001b[0m\u001b[0m\n\u001b[0;32m    791\u001b[0m             \u001b[0melapsed_time\u001b[0m \u001b[1;33m=\u001b[0m \u001b[0mtime\u001b[0m\u001b[1;33m.\u001b[0m\u001b[0mtime\u001b[0m\u001b[1;33m(\u001b[0m\u001b[1;33m)\u001b[0m \u001b[1;33m-\u001b[0m \u001b[0mself\u001b[0m\u001b[1;33m.\u001b[0m\u001b[0m_start_time\u001b[0m\u001b[1;33m\u001b[0m\u001b[0m\n",
      "\u001b[1;32m~\\AppData\\Local\\conda\\conda\\envs\\another_root\\lib\\site-packages\\sklearn\\externals\\joblib\\parallel.py\u001b[0m in \u001b[0;36mretrieve\u001b[1;34m(self)\u001b[0m\n\u001b[0;32m    697\u001b[0m             \u001b[1;32mtry\u001b[0m\u001b[1;33m:\u001b[0m\u001b[1;33m\u001b[0m\u001b[0m\n\u001b[0;32m    698\u001b[0m                 \u001b[1;32mif\u001b[0m \u001b[0mgetattr\u001b[0m\u001b[1;33m(\u001b[0m\u001b[0mself\u001b[0m\u001b[1;33m.\u001b[0m\u001b[0m_backend\u001b[0m\u001b[1;33m,\u001b[0m \u001b[1;34m'supports_timeout'\u001b[0m\u001b[1;33m,\u001b[0m \u001b[1;32mFalse\u001b[0m\u001b[1;33m)\u001b[0m\u001b[1;33m:\u001b[0m\u001b[1;33m\u001b[0m\u001b[0m\n\u001b[1;32m--> 699\u001b[1;33m                     \u001b[0mself\u001b[0m\u001b[1;33m.\u001b[0m\u001b[0m_output\u001b[0m\u001b[1;33m.\u001b[0m\u001b[0mextend\u001b[0m\u001b[1;33m(\u001b[0m\u001b[0mjob\u001b[0m\u001b[1;33m.\u001b[0m\u001b[0mget\u001b[0m\u001b[1;33m(\u001b[0m\u001b[0mtimeout\u001b[0m\u001b[1;33m=\u001b[0m\u001b[0mself\u001b[0m\u001b[1;33m.\u001b[0m\u001b[0mtimeout\u001b[0m\u001b[1;33m)\u001b[0m\u001b[1;33m)\u001b[0m\u001b[1;33m\u001b[0m\u001b[0m\n\u001b[0m\u001b[0;32m    700\u001b[0m                 \u001b[1;32melse\u001b[0m\u001b[1;33m:\u001b[0m\u001b[1;33m\u001b[0m\u001b[0m\n\u001b[0;32m    701\u001b[0m                     \u001b[0mself\u001b[0m\u001b[1;33m.\u001b[0m\u001b[0m_output\u001b[0m\u001b[1;33m.\u001b[0m\u001b[0mextend\u001b[0m\u001b[1;33m(\u001b[0m\u001b[0mjob\u001b[0m\u001b[1;33m.\u001b[0m\u001b[0mget\u001b[0m\u001b[1;33m(\u001b[0m\u001b[1;33m)\u001b[0m\u001b[1;33m)\u001b[0m\u001b[1;33m\u001b[0m\u001b[0m\n",
      "\u001b[1;32m~\\AppData\\Local\\conda\\conda\\envs\\another_root\\lib\\multiprocessing\\pool.py\u001b[0m in \u001b[0;36mget\u001b[1;34m(self, timeout)\u001b[0m\n\u001b[0;32m    636\u001b[0m \u001b[1;33m\u001b[0m\u001b[0m\n\u001b[0;32m    637\u001b[0m     \u001b[1;32mdef\u001b[0m \u001b[0mget\u001b[0m\u001b[1;33m(\u001b[0m\u001b[0mself\u001b[0m\u001b[1;33m,\u001b[0m \u001b[0mtimeout\u001b[0m\u001b[1;33m=\u001b[0m\u001b[1;32mNone\u001b[0m\u001b[1;33m)\u001b[0m\u001b[1;33m:\u001b[0m\u001b[1;33m\u001b[0m\u001b[0m\n\u001b[1;32m--> 638\u001b[1;33m         \u001b[0mself\u001b[0m\u001b[1;33m.\u001b[0m\u001b[0mwait\u001b[0m\u001b[1;33m(\u001b[0m\u001b[0mtimeout\u001b[0m\u001b[1;33m)\u001b[0m\u001b[1;33m\u001b[0m\u001b[0m\n\u001b[0m\u001b[0;32m    639\u001b[0m         \u001b[1;32mif\u001b[0m \u001b[1;32mnot\u001b[0m \u001b[0mself\u001b[0m\u001b[1;33m.\u001b[0m\u001b[0mready\u001b[0m\u001b[1;33m(\u001b[0m\u001b[1;33m)\u001b[0m\u001b[1;33m:\u001b[0m\u001b[1;33m\u001b[0m\u001b[0m\n\u001b[0;32m    640\u001b[0m             \u001b[1;32mraise\u001b[0m \u001b[0mTimeoutError\u001b[0m\u001b[1;33m\u001b[0m\u001b[0m\n",
      "\u001b[1;32m~\\AppData\\Local\\conda\\conda\\envs\\another_root\\lib\\multiprocessing\\pool.py\u001b[0m in \u001b[0;36mwait\u001b[1;34m(self, timeout)\u001b[0m\n\u001b[0;32m    633\u001b[0m \u001b[1;33m\u001b[0m\u001b[0m\n\u001b[0;32m    634\u001b[0m     \u001b[1;32mdef\u001b[0m \u001b[0mwait\u001b[0m\u001b[1;33m(\u001b[0m\u001b[0mself\u001b[0m\u001b[1;33m,\u001b[0m \u001b[0mtimeout\u001b[0m\u001b[1;33m=\u001b[0m\u001b[1;32mNone\u001b[0m\u001b[1;33m)\u001b[0m\u001b[1;33m:\u001b[0m\u001b[1;33m\u001b[0m\u001b[0m\n\u001b[1;32m--> 635\u001b[1;33m         \u001b[0mself\u001b[0m\u001b[1;33m.\u001b[0m\u001b[0m_event\u001b[0m\u001b[1;33m.\u001b[0m\u001b[0mwait\u001b[0m\u001b[1;33m(\u001b[0m\u001b[0mtimeout\u001b[0m\u001b[1;33m)\u001b[0m\u001b[1;33m\u001b[0m\u001b[0m\n\u001b[0m\u001b[0;32m    636\u001b[0m \u001b[1;33m\u001b[0m\u001b[0m\n\u001b[0;32m    637\u001b[0m     \u001b[1;32mdef\u001b[0m \u001b[0mget\u001b[0m\u001b[1;33m(\u001b[0m\u001b[0mself\u001b[0m\u001b[1;33m,\u001b[0m \u001b[0mtimeout\u001b[0m\u001b[1;33m=\u001b[0m\u001b[1;32mNone\u001b[0m\u001b[1;33m)\u001b[0m\u001b[1;33m:\u001b[0m\u001b[1;33m\u001b[0m\u001b[0m\n",
      "\u001b[1;32m~\\AppData\\Local\\conda\\conda\\envs\\another_root\\lib\\threading.py\u001b[0m in \u001b[0;36mwait\u001b[1;34m(self, timeout)\u001b[0m\n\u001b[0;32m    549\u001b[0m             \u001b[0msignaled\u001b[0m \u001b[1;33m=\u001b[0m \u001b[0mself\u001b[0m\u001b[1;33m.\u001b[0m\u001b[0m_flag\u001b[0m\u001b[1;33m\u001b[0m\u001b[0m\n\u001b[0;32m    550\u001b[0m             \u001b[1;32mif\u001b[0m \u001b[1;32mnot\u001b[0m \u001b[0msignaled\u001b[0m\u001b[1;33m:\u001b[0m\u001b[1;33m\u001b[0m\u001b[0m\n\u001b[1;32m--> 551\u001b[1;33m                 \u001b[0msignaled\u001b[0m \u001b[1;33m=\u001b[0m \u001b[0mself\u001b[0m\u001b[1;33m.\u001b[0m\u001b[0m_cond\u001b[0m\u001b[1;33m.\u001b[0m\u001b[0mwait\u001b[0m\u001b[1;33m(\u001b[0m\u001b[0mtimeout\u001b[0m\u001b[1;33m)\u001b[0m\u001b[1;33m\u001b[0m\u001b[0m\n\u001b[0m\u001b[0;32m    552\u001b[0m             \u001b[1;32mreturn\u001b[0m \u001b[0msignaled\u001b[0m\u001b[1;33m\u001b[0m\u001b[0m\n\u001b[0;32m    553\u001b[0m \u001b[1;33m\u001b[0m\u001b[0m\n",
      "\u001b[1;32m~\\AppData\\Local\\conda\\conda\\envs\\another_root\\lib\\threading.py\u001b[0m in \u001b[0;36mwait\u001b[1;34m(self, timeout)\u001b[0m\n\u001b[0;32m    293\u001b[0m         \u001b[1;32mtry\u001b[0m\u001b[1;33m:\u001b[0m    \u001b[1;31m# restore state no matter what (e.g., KeyboardInterrupt)\u001b[0m\u001b[1;33m\u001b[0m\u001b[0m\n\u001b[0;32m    294\u001b[0m             \u001b[1;32mif\u001b[0m \u001b[0mtimeout\u001b[0m \u001b[1;32mis\u001b[0m \u001b[1;32mNone\u001b[0m\u001b[1;33m:\u001b[0m\u001b[1;33m\u001b[0m\u001b[0m\n\u001b[1;32m--> 295\u001b[1;33m                 \u001b[0mwaiter\u001b[0m\u001b[1;33m.\u001b[0m\u001b[0macquire\u001b[0m\u001b[1;33m(\u001b[0m\u001b[1;33m)\u001b[0m\u001b[1;33m\u001b[0m\u001b[0m\n\u001b[0m\u001b[0;32m    296\u001b[0m                 \u001b[0mgotit\u001b[0m \u001b[1;33m=\u001b[0m \u001b[1;32mTrue\u001b[0m\u001b[1;33m\u001b[0m\u001b[0m\n\u001b[0;32m    297\u001b[0m             \u001b[1;32melse\u001b[0m\u001b[1;33m:\u001b[0m\u001b[1;33m\u001b[0m\u001b[0m\n",
      "\u001b[1;31mKeyboardInterrupt\u001b[0m: "
     ]
    }
   ],
   "source": [
    "results = pd.DataFrame()\n",
    "#results['ACTUAL'] = y_test\n",
    "actual = []\n",
    "test = []\n",
    "\n",
    "if len(y_test) > 252:\n",
    "    n = 252\n",
    "else:\n",
    "    n = len(y_test)\n",
    "\n",
    "for i in range(0, n-1):\n",
    "    t = x.iloc[-n + i:].values\n",
    "    #.reshape(1, -1)\n",
    "    actual.append(y.iloc[-n + i])\n",
    "    randomF = modRF.fit(x[:-n + i], y[:-n + i])\n",
    "    test.append(randomF.predict(t)[0])\n",
    "    \n",
    "results['ACTUAL'] = actual\n",
    "results['RANDOM FOREST'] = test\n",
    "results['RF ACC'] = round((results['RANDOM FOREST'] - results['ACTUAL'])/results['ACTUAL'], 2)\n",
    "\n",
    "results[['ACTUAL', 'RANDOM FOREST']].plot()\n",
    "plt.show()\n",
    "\n",
    "results.mean()"
   ]
  },
  {
   "cell_type": "code",
   "execution_count": 83,
   "metadata": {},
   "outputs": [
    {
     "name": "stdout",
     "output_type": "stream",
     "text": [
      "2018-11-01 00:00:00 2018-11-02 00:00:00\n"
     ]
    },
    {
     "name": "stderr",
     "output_type": "stream",
     "text": [
      "C:\\Users\\p998nkf\\AppData\\Local\\conda\\conda\\envs\\another_root\\lib\\site-packages\\ipykernel_launcher.py:3: FutureWarning: reshape is deprecated and will raise in a subsequent release. Please use .values.reshape(...) instead\n",
      "  This is separate from the ipykernel package so we can avoid doing imports until\n"
     ]
    },
    {
     "data": {
      "text/plain": [
       "array([-0.00201073])"
      ]
     },
     "execution_count": 83,
     "metadata": {},
     "output_type": "execute_result"
    }
   ],
   "source": [
    "print(max(x.index), max(data.index))\n",
    "randomF = modRF.fit(x, y)\n",
    "randomF.predict(data.drop('Close', axis=1).iloc[-1].reshape(1, -1))"
   ]
  },
  {
   "cell_type": "code",
   "execution_count": 47,
   "metadata": {
    "scrolled": false
   },
   "outputs": [
    {
     "name": "stderr",
     "output_type": "stream",
     "text": [
      "C:\\Users\\p998nkf\\AppData\\Local\\conda\\conda\\envs\\another_root\\lib\\site-packages\\statsmodels\\base\\model.py:496: ConvergenceWarning: Maximum Likelihood optimization failed to converge. Check mle_retvals\n",
      "  \"Check mle_retvals\", ConvergenceWarning)\n",
      "C:\\Users\\p998nkf\\AppData\\Local\\conda\\conda\\envs\\another_root\\lib\\site-packages\\statsmodels\\tsa\\regime_switching\\markov_switching.py:391: RuntimeWarning: invalid value encountered in true_divide\n",
      "  predicted_joint_probabilities[..., t+1])\n",
      "C:\\Users\\p998nkf\\AppData\\Local\\conda\\conda\\envs\\another_root\\lib\\site-packages\\statsmodels\\tsa\\regime_switching\\markov_autoregression.py:231: RuntimeWarning: overflow encountered in exp\n",
      "  np.exp(-0.5 * resid**2 / variance) / np.sqrt(2 * np.pi * variance))\n",
      "C:\\Users\\p998nkf\\AppData\\Local\\conda\\conda\\envs\\another_root\\lib\\site-packages\\statsmodels\\tsa\\regime_switching\\markov_autoregression.py:231: RuntimeWarning: invalid value encountered in true_divide\n",
      "  np.exp(-0.5 * resid**2 / variance) / np.sqrt(2 * np.pi * variance))\n",
      "C:\\Users\\p998nkf\\AppData\\Local\\conda\\conda\\envs\\another_root\\lib\\site-packages\\statsmodels\\base\\model.py:496: ConvergenceWarning: Maximum Likelihood optimization failed to converge. Check mle_retvals\n",
      "  \"Check mle_retvals\", ConvergenceWarning)\n",
      "C:\\Users\\p998nkf\\AppData\\Local\\conda\\conda\\envs\\another_root\\lib\\site-packages\\statsmodels\\base\\model.py:496: ConvergenceWarning: Maximum Likelihood optimization failed to converge. Check mle_retvals\n",
      "  \"Check mle_retvals\", ConvergenceWarning)\n",
      "C:\\Users\\p998nkf\\AppData\\Local\\conda\\conda\\envs\\another_root\\lib\\site-packages\\statsmodels\\tsa\\regime_switching\\markov_switching.py:391: RuntimeWarning: invalid value encountered in true_divide\n",
      "  predicted_joint_probabilities[..., t+1])\n",
      "C:\\Users\\p998nkf\\AppData\\Local\\conda\\conda\\envs\\another_root\\lib\\site-packages\\statsmodels\\tsa\\regime_switching\\markov_autoregression.py:231: RuntimeWarning: overflow encountered in exp\n",
      "  np.exp(-0.5 * resid**2 / variance) / np.sqrt(2 * np.pi * variance))\n",
      "C:\\Users\\p998nkf\\AppData\\Local\\conda\\conda\\envs\\another_root\\lib\\site-packages\\statsmodels\\tsa\\regime_switching\\markov_autoregression.py:231: RuntimeWarning: invalid value encountered in true_divide\n",
      "  np.exp(-0.5 * resid**2 / variance) / np.sqrt(2 * np.pi * variance))\n",
      "C:\\Users\\p998nkf\\AppData\\Local\\conda\\conda\\envs\\another_root\\lib\\site-packages\\statsmodels\\base\\model.py:496: ConvergenceWarning: Maximum Likelihood optimization failed to converge. Check mle_retvals\n",
      "  \"Check mle_retvals\", ConvergenceWarning)\n",
      "C:\\Users\\p998nkf\\AppData\\Local\\conda\\conda\\envs\\another_root\\lib\\site-packages\\statsmodels\\tsa\\regime_switching\\markov_switching.py:391: RuntimeWarning: invalid value encountered in true_divide\n",
      "  predicted_joint_probabilities[..., t+1])\n",
      "C:\\Users\\p998nkf\\AppData\\Local\\conda\\conda\\envs\\another_root\\lib\\site-packages\\statsmodels\\tsa\\regime_switching\\markov_autoregression.py:231: RuntimeWarning: overflow encountered in exp\n",
      "  np.exp(-0.5 * resid**2 / variance) / np.sqrt(2 * np.pi * variance))\n",
      "C:\\Users\\p998nkf\\AppData\\Local\\conda\\conda\\envs\\another_root\\lib\\site-packages\\statsmodels\\tsa\\regime_switching\\markov_autoregression.py:231: RuntimeWarning: invalid value encountered in true_divide\n",
      "  np.exp(-0.5 * resid**2 / variance) / np.sqrt(2 * np.pi * variance))\n",
      "C:\\Users\\p998nkf\\AppData\\Local\\conda\\conda\\envs\\another_root\\lib\\site-packages\\statsmodels\\tsa\\regime_switching\\markov_switching.py:1667: RuntimeWarning: divide by zero encountered in log\n",
      "  self.llf_obs = np.log(self.joint_likelihoods)\n",
      "C:\\Users\\p998nkf\\AppData\\Local\\conda\\conda\\envs\\another_root\\lib\\site-packages\\statsmodels\\tools\\numdiff.py:96: RuntimeWarning: invalid value encountered in maximum\n",
      "  h = EPS**(1. / s) * np.maximum(np.abs(x), 0.1)\n",
      "C:\\Users\\p998nkf\\AppData\\Local\\conda\\conda\\envs\\another_root\\lib\\site-packages\\statsmodels\\tsa\\statespace\\tools.py:364: RuntimeWarning: invalid value encountered in true_divide\n",
      "  r = unconstrained/((1 + unconstrained**2)**0.5)\n",
      "C:\\Users\\p998nkf\\AppData\\Local\\conda\\conda\\envs\\another_root\\lib\\site-packages\\statsmodels\\base\\model.py:496: ConvergenceWarning: Maximum Likelihood optimization failed to converge. Check mle_retvals\n",
      "  \"Check mle_retvals\", ConvergenceWarning)\n",
      "C:\\Users\\p998nkf\\AppData\\Local\\conda\\conda\\envs\\another_root\\lib\\site-packages\\statsmodels\\base\\model.py:496: ConvergenceWarning: Maximum Likelihood optimization failed to converge. Check mle_retvals\n",
      "  \"Check mle_retvals\", ConvergenceWarning)\n",
      "C:\\Users\\p998nkf\\AppData\\Local\\conda\\conda\\envs\\another_root\\lib\\site-packages\\statsmodels\\tsa\\regime_switching\\markov_autoregression.py:231: RuntimeWarning: divide by zero encountered in true_divide\n",
      "  np.exp(-0.5 * resid**2 / variance) / np.sqrt(2 * np.pi * variance))\n",
      "C:\\Users\\p998nkf\\AppData\\Local\\conda\\conda\\envs\\another_root\\lib\\site-packages\\statsmodels\\base\\model.py:496: ConvergenceWarning: Maximum Likelihood optimization failed to converge. Check mle_retvals\n",
      "  \"Check mle_retvals\", ConvergenceWarning)\n",
      "C:\\Users\\p998nkf\\AppData\\Local\\conda\\conda\\envs\\another_root\\lib\\site-packages\\statsmodels\\tools\\eval_measures.py:411: RuntimeWarning: divide by zero encountered in log\n",
      "  return -2. * llf + 2 * np.log(np.log(nobs)) * df_modelwc\n",
      "C:\\Users\\p998nkf\\AppData\\Local\\conda\\conda\\envs\\another_root\\lib\\site-packages\\scipy\\stats\\_distn_infrastructure.py:879: RuntimeWarning: invalid value encountered in greater\n",
      "  return (self.a < x) & (x < self.b)\n",
      "C:\\Users\\p998nkf\\AppData\\Local\\conda\\conda\\envs\\another_root\\lib\\site-packages\\scipy\\stats\\_distn_infrastructure.py:879: RuntimeWarning: invalid value encountered in less\n",
      "  return (self.a < x) & (x < self.b)\n",
      "C:\\Users\\p998nkf\\AppData\\Local\\conda\\conda\\envs\\another_root\\lib\\site-packages\\scipy\\stats\\_distn_infrastructure.py:1818: RuntimeWarning: invalid value encountered in less_equal\n",
      "  cond2 = cond0 & (x <= self.a)\n"
     ]
    },
    {
     "data": {
      "text/html": [
       "<table class=\"simpletable\">\n",
       "<caption>Markov Switching Model Results</caption>\n",
       "<tr>\n",
       "  <th>Dep. Variable:</th>           <td>Close</td>        <th>  No. Observations:  </th>   <td>1</td>  \n",
       "</tr>\n",
       "<tr>\n",
       "  <th>Model:</th>           <td>MarkovAutoregression</td> <th>  Log Likelihood     </th> <td>  nan</td>\n",
       "</tr>\n",
       "<tr>\n",
       "  <th>Date:</th>              <td>Mon, 05 Nov 2018</td>   <th>  AIC                </th> <td>  nan</td>\n",
       "</tr>\n",
       "<tr>\n",
       "  <th>Time:</th>                  <td>14:50:35</td>       <th>  BIC                </th> <td>  nan</td>\n",
       "</tr>\n",
       "<tr>\n",
       "  <th>Sample:</th>               <td>10-31-2018</td>      <th>  HQIC               </th> <td>  nan</td>\n",
       "</tr>\n",
       "<tr>\n",
       "  <th></th>                     <td>- 10-31-2018</td>     <th>                     </th>   <td> </td>  \n",
       "</tr>\n",
       "<tr>\n",
       "  <th>Covariance Type:</th>        <td>approx</td>        <th>                     </th>   <td> </td>  \n",
       "</tr>\n",
       "</table>\n",
       "<table class=\"simpletable\">\n",
       "<caption>Regime 0 parameters</caption>\n",
       "<tr>\n",
       "     <td></td>       <th>coef</th>     <th>std err</th>      <th>z</th>      <th>P>|z|</th>  <th>[0.025</th>    <th>0.975]</th>  \n",
       "</tr>\n",
       "<tr>\n",
       "  <th>const</th>  <td>       nan</td> <td>      nan</td> <td>      nan</td> <td>   nan</td> <td>      nan</td> <td>      nan</td>\n",
       "</tr>\n",
       "<tr>\n",
       "  <th>sigma2</th> <td>       nan</td> <td>      nan</td> <td>      nan</td> <td>   nan</td> <td>      nan</td> <td>      nan</td>\n",
       "</tr>\n",
       "<tr>\n",
       "  <th>ar.L1</th>  <td>       nan</td> <td>      nan</td> <td>      nan</td> <td>   nan</td> <td>      nan</td> <td>      nan</td>\n",
       "</tr>\n",
       "<tr>\n",
       "  <th>ar.L2</th>  <td>       nan</td> <td>      nan</td> <td>      nan</td> <td>   nan</td> <td>      nan</td> <td>      nan</td>\n",
       "</tr>\n",
       "</table>\n",
       "<table class=\"simpletable\">\n",
       "<caption>Regime 1 parameters</caption>\n",
       "<tr>\n",
       "     <td></td>       <th>coef</th>     <th>std err</th>      <th>z</th>      <th>P>|z|</th>  <th>[0.025</th>    <th>0.975]</th>  \n",
       "</tr>\n",
       "<tr>\n",
       "  <th>const</th>  <td>       nan</td> <td>      nan</td> <td>      nan</td> <td>   nan</td> <td>      nan</td> <td>      nan</td>\n",
       "</tr>\n",
       "<tr>\n",
       "  <th>sigma2</th> <td>       nan</td> <td>      nan</td> <td>      nan</td> <td>   nan</td> <td>      nan</td> <td>      nan</td>\n",
       "</tr>\n",
       "<tr>\n",
       "  <th>ar.L1</th>  <td>       nan</td> <td>      nan</td> <td>      nan</td> <td>   nan</td> <td>      nan</td> <td>      nan</td>\n",
       "</tr>\n",
       "<tr>\n",
       "  <th>ar.L2</th>  <td>       nan</td> <td>      nan</td> <td>      nan</td> <td>   nan</td> <td>      nan</td> <td>      nan</td>\n",
       "</tr>\n",
       "</table>\n",
       "<table class=\"simpletable\">\n",
       "<caption>Regime transition parameters</caption>\n",
       "<tr>\n",
       "     <td></td>        <th>coef</th>     <th>std err</th>      <th>z</th>      <th>P>|z|</th>  <th>[0.025</th>    <th>0.975]</th>  \n",
       "</tr>\n",
       "<tr>\n",
       "  <th>p[0->0]</th> <td>       nan</td> <td>      nan</td> <td>      nan</td> <td>   nan</td> <td>      nan</td> <td>      nan</td>\n",
       "</tr>\n",
       "<tr>\n",
       "  <th>p[1->0]</th> <td>       nan</td> <td>      nan</td> <td>      nan</td> <td>   nan</td> <td>      nan</td> <td>      nan</td>\n",
       "</tr>\n",
       "</table>"
      ],
      "text/plain": [
       "<class 'statsmodels.iolib.summary.Summary'>\n",
       "\"\"\"\n",
       "                         Markov Switching Model Results                         \n",
       "================================================================================\n",
       "Dep. Variable:                    Close   No. Observations:                    1\n",
       "Model:             MarkovAutoregression   Log Likelihood                     nan\n",
       "Date:                  Mon, 05 Nov 2018   AIC                                nan\n",
       "Time:                          14:50:35   BIC                                nan\n",
       "Sample:                      10-31-2018   HQIC                               nan\n",
       "                           - 10-31-2018                                         \n",
       "Covariance Type:                 approx                                         \n",
       "                             Regime 0 parameters                              \n",
       "==============================================================================\n",
       "                 coef    std err          z      P>|z|      [0.025      0.975]\n",
       "------------------------------------------------------------------------------\n",
       "const             nan        nan        nan        nan         nan         nan\n",
       "sigma2            nan        nan        nan        nan         nan         nan\n",
       "ar.L1             nan        nan        nan        nan         nan         nan\n",
       "ar.L2             nan        nan        nan        nan         nan         nan\n",
       "                             Regime 1 parameters                              \n",
       "==============================================================================\n",
       "                 coef    std err          z      P>|z|      [0.025      0.975]\n",
       "------------------------------------------------------------------------------\n",
       "const             nan        nan        nan        nan         nan         nan\n",
       "sigma2            nan        nan        nan        nan         nan         nan\n",
       "ar.L1             nan        nan        nan        nan         nan         nan\n",
       "ar.L2             nan        nan        nan        nan         nan         nan\n",
       "                         Regime transition parameters                         \n",
       "==============================================================================\n",
       "                 coef    std err          z      P>|z|      [0.025      0.975]\n",
       "------------------------------------------------------------------------------\n",
       "p[0->0]           nan        nan        nan        nan         nan         nan\n",
       "p[1->0]           nan        nan        nan        nan         nan         nan\n",
       "==============================================================================\n",
       "\n",
       "Warnings:\n",
       "[1] Covariance matrix is singular or near-singular, with condition number    nan. Standard errors may be unstable.\n",
       "\"\"\""
      ]
     },
     "execution_count": 47,
     "metadata": {},
     "output_type": "execute_result"
    }
   ],
   "source": [
    "import statsmodels.api as sm\n",
    "mResult = []\n",
    "actual = []\n",
    "m = int(len(y.values)/3)\n",
    "\n",
    "for i in range(0, m):\n",
    "    try:\n",
    "        mod_MarkovRegres = sm.tsa.MarkovAutoregression(y[-(m-i+1):], k_regimes=2,\\\n",
    "                                                       order = 2,\\\n",
    "                                                       switching_ar = True,\\\n",
    "                                                       switching_trend = True,\\\n",
    "                                                       switching_variance = True)\n",
    "        MarkovRegres = mod_MarkovRegres.fit()\n",
    "        \n",
    "        mResult.append(MarkovRegres.predict(start=0, end=1))\n",
    "        actual.append(y.values[-(m-i+1)])\n",
    "        \n",
    "    except ValueError:\n",
    "        break\n",
    "        \n",
    "    finally:\n",
    "        if m-i+1<20: mm = m-i+1\n",
    "\n",
    "MarkovRegres.summary()"
   ]
  },
  {
   "cell_type": "code",
   "execution_count": 48,
   "metadata": {},
   "outputs": [
    {
     "data": {
      "text/plain": [
       "0.0"
      ]
     },
     "execution_count": 48,
     "metadata": {},
     "output_type": "execute_result"
    }
   ],
   "source": [
    "res = []\n",
    "\n",
    "for p in range(0, len(mResult)):\n",
    "    \n",
    "    if mResult[p][1] > 0 and actual[p] > 0:\n",
    "        res.append(1)\n",
    "    elif mResult[p][1] < 0 and actual[p] < 0:\n",
    "        res.append(1)\n",
    "    else:\n",
    "        res.append(0)\n",
    "    \n",
    "np.mean(res)"
   ]
  },
  {
   "cell_type": "markdown",
   "metadata": {},
   "source": [
    "***The End***"
   ]
  },
  {
   "cell_type": "code",
   "execution_count": 49,
   "metadata": {
    "collapsed": true
   },
   "outputs": [],
   "source": [
    "results.to_csv('results.csv', encoding = 'utf-16')"
   ]
  }
 ],
 "metadata": {
  "kernelspec": {
   "display_name": "Python 3",
   "language": "python",
   "name": "python3"
  },
  "language_info": {
   "codemirror_mode": {
    "name": "ipython",
    "version": 3
   },
   "file_extension": ".py",
   "mimetype": "text/x-python",
   "name": "python",
   "nbconvert_exporter": "python",
   "pygments_lexer": "ipython3",
   "version": "3.6.2"
  }
 },
 "nbformat": 4,
 "nbformat_minor": 2
}
